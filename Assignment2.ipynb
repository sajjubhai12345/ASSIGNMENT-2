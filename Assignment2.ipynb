{
 "cells": [
  {
   "cell_type": "markdown",
   "id": "1adab8ed-5fcc-42a0-8d5c-5f87a87f669e",
   "metadata": {},
   "source": [
    "Assignment 02 (Conditional Statements)\n"
   ]
  },
  {
   "cell_type": "markdown",
   "id": "6c55fda3-c27a-4973-a199-c8f8806b078c",
   "metadata": {},
   "source": [
    "1. A company decided to give bonus of 5% to employee if his/her year of service is more than 5 years. Ask user for their salary and year of service and print the net bonus amount."
   ]
  },
  {
   "cell_type": "code",
   "execution_count": null,
   "id": "1170f129-630d-44a3-99a7-357252d715b6",
   "metadata": {},
   "outputs": [],
   "source": [
    "salary = float(input(\"Enter your salary: \"))\n",
    "years_of_service = int(input(\"Enter your years of service: \"))\n",
    "if years_of_service > 5:\n",
    "    bonus = salary * 0.05\n",
    "    print(f\"Congratulations! Your bonus amount is: {bonus:.2f}\")\n",
    "else:\n",
    "    print(\"Sorry, you are not eligible for a bonus.\")"
   ]
  },
  {
   "cell_type": "markdown",
   "id": "7a50d661-302f-4746-9e39-727d72e6b766",
   "metadata": {},
   "source": [
    "2. Write a program to check whether a person is eligible for voting or not. (accept age from user) if age is greater than 17 eligible otherwise not eligible."
   ]
  },
  {
   "cell_type": "code",
   "execution_count": 6,
   "id": "d5107195-c44c-421c-b17b-34337c3abc2f",
   "metadata": {},
   "outputs": [
    {
     "name": "stdout",
     "output_type": "stream",
     "text": [
      "Enter your age:  34\n"
     ]
    },
    {
     "name": "stdout",
     "output_type": "stream",
     "text": [
      "You are eligible to vote.\n"
     ]
    }
   ],
   "source": [
    "age = int(input(\"Enter your age: \"))\n",
    "if age > 17:\n",
    "    print(\"You are eligible to vote.\")\n",
    "else:\n",
    "    print(\"You are not eligible to vote.\")"
   ]
  },
  {
   "cell_type": "markdown",
   "id": "38936589-42c7-4695-96c6-4cfcb1eaf497",
   "metadata": {},
   "source": [
    "3. Write a program to check whether a number entered by user is even or odd."
   ]
  },
  {
   "cell_type": "code",
   "execution_count": 7,
   "id": "92263558-1426-48f4-a215-f71478709550",
   "metadata": {},
   "outputs": [
    {
     "name": "stdout",
     "output_type": "stream",
     "text": [
      "Enter a number:  123\n"
     ]
    },
    {
     "name": "stdout",
     "output_type": "stream",
     "text": [
      "123 is odd.\n"
     ]
    }
   ],
   "source": [
    "num = int(input(\"Enter a number: \"))\n",
    "if num % 2 == 0:\n",
    "    print(f\"{num} is even.\")\n",
    "else:\n",
    "    print(f\"{num} is odd.\")"
   ]
  },
  {
   "cell_type": "markdown",
   "id": "a5b08ba5-ca35-40ad-9e9c-7ad2568924b3",
   "metadata": {},
   "source": [
    "4. Write a program to check whether a number is divisible by 7 or not. Show Answer"
   ]
  },
  {
   "cell_type": "code",
   "execution_count": 8,
   "id": "7fb7d0d5-206a-4ef0-8a06-42591dbb0e44",
   "metadata": {},
   "outputs": [
    {
     "name": "stdout",
     "output_type": "stream",
     "text": [
      "Enter a number:  144\n"
     ]
    },
    {
     "name": "stdout",
     "output_type": "stream",
     "text": [
      "144 is not divisible by 7.\n"
     ]
    }
   ],
   "source": [
    "num = int(input(\"Enter a number: \"))\n",
    "if num % 7 == 0:\n",
    "    print(f\"{num} is divisible by 7.\")\n",
    "else:\n",
    "    print(f\"{num} is not divisible by 7.\")"
   ]
  },
  {
   "cell_type": "markdown",
   "id": "60fe09d6-5b53-4f17-be47-7f8a0ddd61fd",
   "metadata": {},
   "source": [
    "5. Write a program to display \"Hello\" if a number entered by user is a multiple of five , otherwise print \"Bye\"."
   ]
  },
  {
   "cell_type": "code",
   "execution_count": 9,
   "id": "dc2272fe-c700-44c1-b961-46ccf4f14836",
   "metadata": {},
   "outputs": [
    {
     "name": "stdout",
     "output_type": "stream",
     "text": [
      "Enter a number:  67\n"
     ]
    },
    {
     "name": "stdout",
     "output_type": "stream",
     "text": [
      "Bye\n"
     ]
    }
   ],
   "source": [
    "num = int(input(\"Enter a number: \"))\n",
    "if num % 5 == 0:\n",
    "    print(\"Hello\")\n",
    "else:\n",
    "    print(\"Bye\")"
   ]
  },
  {
   "cell_type": "markdown",
   "id": "0cf9737f-e450-4b4a-85fc-96629e247078",
   "metadata": {},
   "source": [
    "6. Write a program to display the last digit of a number."
   ]
  },
  {
   "cell_type": "code",
   "execution_count": 10,
   "id": "2c74659a-e479-477e-931b-4af6ab115437",
   "metadata": {},
   "outputs": [
    {
     "name": "stdout",
     "output_type": "stream",
     "text": [
      "Enter a number:  7865\n"
     ]
    },
    {
     "name": "stdout",
     "output_type": "stream",
     "text": [
      "The last digit of 7865 is 5.\n"
     ]
    }
   ],
   "source": [
    "num = int(input(\"Enter a number: \"))\n",
    "last_digit = num % 10\n",
    "print(f\"The last digit of {num} is {last_digit}.\")"
   ]
  },
  {
   "cell_type": "markdown",
   "id": "e47eb2ba-494b-4063-93f4-ed4d69e78adb",
   "metadata": {},
   "source": [
    "7. Take values of length and breadth of a rectangle from user and print if it is square or rectangle."
   ]
  },
  {
   "cell_type": "code",
   "execution_count": 11,
   "id": "ff2fd2e2-b2a6-4c07-ad9f-b48db4ff889e",
   "metadata": {},
   "outputs": [
    {
     "name": "stdout",
     "output_type": "stream",
     "text": [
      "Enter the length:  10\n",
      "Enter the breadth:  4\n"
     ]
    },
    {
     "name": "stdout",
     "output_type": "stream",
     "text": [
      "It is a Rectangle.\n"
     ]
    }
   ],
   "source": [
    "length = float(input(\"Enter the length: \"))\n",
    "breadth = float(input(\"Enter the breadth: \"))\n",
    "if length == breadth:\n",
    "    print(\"It is a Square.\")\n",
    "else:\n",
    "    print(\"It is a Rectangle.\")"
   ]
  },
  {
   "cell_type": "markdown",
   "id": "0c684fe9-41e8-43ce-a278-04d058593d1b",
   "metadata": {},
   "source": [
    "8. Take two int values from user and print greatest among them."
   ]
  },
  {
   "cell_type": "code",
   "execution_count": 12,
   "id": "4de2967e-9c2e-4800-947e-ea161fee2788",
   "metadata": {},
   "outputs": [
    {
     "name": "stdout",
     "output_type": "stream",
     "text": [
      "Enter the first number:  7888\n",
      "Enter the second number:  79765\n"
     ]
    },
    {
     "name": "stdout",
     "output_type": "stream",
     "text": [
      "The greatest number is 79765.\n"
     ]
    }
   ],
   "source": [
    "num1 = int(input(\"Enter the first number: \"))\n",
    "num2 = int(input(\"Enter the second number: \"))\n",
    "if num1 > num2:\n",
    "    print(f\"The greatest number is {num1}.\")\n",
    "elif num2 > num1:\n",
    "    print(f\"The greatest number is {num2}.\")\n",
    "else:\n",
    "    print(\"Both numbers are equal.\")"
   ]
  },
  {
   "cell_type": "markdown",
   "id": "2f563f95-79a7-453f-ad62-b0710bbf5fad",
   "metadata": {},
   "source": [
    "9. A shop will give discount of 10% if the cost of purchased quantity is more than 1000. Ask user for quantity Suppose, one unit will cost 100. Judge and print total cost for user."
   ]
  },
  {
   "cell_type": "code",
   "execution_count": 13,
   "id": "d52e4a3e-6ab3-4510-b168-2cdafc870b46",
   "metadata": {},
   "outputs": [
    {
     "name": "stdout",
     "output_type": "stream",
     "text": [
      "Enter the quantity of items:  65\n"
     ]
    },
    {
     "name": "stdout",
     "output_type": "stream",
     "text": [
      "Congratulations! You received a 10% discount of 650.00.\n",
      "Total cost to be paid: 5850.00\n"
     ]
    }
   ],
   "source": [
    "quantity = int(input(\"Enter the quantity of items: \"))\n",
    "unit_price = 100\n",
    "total_cost = quantity * unit_price\n",
    "if total_cost > 1000:\n",
    "    discount = total_cost * 0.10  \n",
    "    total_cost -= discount \n",
    "    print(f\"Congratulations! You received a 10% discount of {discount:.2f}.\")\n",
    "    \n",
    "print(f\"Total cost to be paid: {total_cost:.2f}\")\n"
   ]
  },
  {
   "cell_type": "markdown",
   "id": "970efde7-8735-498c-8d58-3b21b00eec2a",
   "metadata": {},
   "source": [
    "10. A school has following rules for grading system:\n",
    "a. Below 25 - F\n",
    "\n",
    "b. 25 to 45 - E\n",
    "\n",
    "c. 45 to 50 - D\n",
    "\n",
    "d. 50 to 60 - C\n",
    "\n",
    "e. 60 to 80 - B\n",
    "\n",
    "f. Above 80 - A\n",
    "\n",
    "Ask user to enter marks and print the corresponding grade."
   ]
  },
  {
   "cell_type": "code",
   "execution_count": 14,
   "id": "9163346a-cf39-4812-a024-0116191082fc",
   "metadata": {},
   "outputs": [
    {
     "name": "stdout",
     "output_type": "stream",
     "text": [
      "Enter your marks:  75\n"
     ]
    },
    {
     "name": "stdout",
     "output_type": "stream",
     "text": [
      "Your grade is: B\n"
     ]
    }
   ],
   "source": [
    "marks = int(input(\"Enter your marks: \"))\n",
    "if marks < 25:\n",
    "    grade = \"F\"\n",
    "elif 25 <= marks < 45:\n",
    "    grade = \"E\"\n",
    "elif 45 <= marks < 50:\n",
    "    grade = \"D\"\n",
    "elif 50 <= marks < 60:\n",
    "    grade = \"C\"\n",
    "elif 60 <= marks < 80:\n",
    "    grade = \"B\"\n",
    "else:  # marks >= 80\n",
    "    grade = \"A\"\n",
    "print(f\"Your grade is: {grade}\")"
   ]
  },
  {
   "cell_type": "markdown",
   "id": "3f7bb33e-f9c7-4712-9411-d362065ee78e",
   "metadata": {},
   "source": [
    "11. A student will not be allowed to sit in exam if his/her attendence is less than 75%.\n",
    "\n",
    "Take following input from user\n",
    "\n",
    "Number of classes held\n",
    "\n",
    "Number of classes attended.\n",
    "\n",
    "And print\n",
    "\n",
    "percentage of class attended\n",
    "\n",
    "Is student is allowed to sit in exam or not."
   ]
  },
  {
   "cell_type": "code",
   "execution_count": 15,
   "id": "7f17bb3f-9dbb-4a44-abac-e1539310fa2c",
   "metadata": {},
   "outputs": [
    {
     "name": "stdout",
     "output_type": "stream",
     "text": [
      "Enter the number of classes held:  45\n",
      "Enter the number of classes attended:  32\n"
     ]
    },
    {
     "name": "stdout",
     "output_type": "stream",
     "text": [
      "Your attendance percentage is: 71.11%\n",
      "You are not allowed to sit in the exam.\n"
     ]
    }
   ],
   "source": [
    "classes_held = int(input(\"Enter the number of classes held: \"))\n",
    "classes_attended = int(input(\"Enter the number of classes attended: \"))\n",
    "attendance_percentage = (classes_attended / classes_held) * 100\n",
    "\n",
    "print(f\"Your attendance percentage is: {attendance_percentage:.2f}%\")\n",
    "\n",
    "if attendance_percentage >= 75:\n",
    "    print(\"You are allowed to sit in the exam.\")\n",
    "else:\n",
    "    print(\"You are not allowed to sit in the exam.\")\n"
   ]
  },
  {
   "cell_type": "markdown",
   "id": "3e0ebf49-1bf1-4505-8f94-5061fc014314",
   "metadata": {},
   "source": [
    "12. Modify the above question to allow student to sit if he/she has medical cause. Ask user if he/she has medical cause or not ( 'Y' or 'N' ) and print accordingly."
   ]
  },
  {
   "cell_type": "code",
   "execution_count": 17,
   "id": "1186660e-8825-4c2b-a790-506be5ab5b19",
   "metadata": {},
   "outputs": [
    {
     "name": "stdout",
     "output_type": "stream",
     "text": [
      "Enter the number of classes held:  50\n",
      "Enter the number of classes attended:  45\n"
     ]
    },
    {
     "name": "stdout",
     "output_type": "stream",
     "text": [
      "Your attendance percentage is: 90.00%\n",
      "You are allowed to sit in the exam.\n"
     ]
    }
   ],
   "source": [
    "classes_held = int(input(\"Enter the number of classes held: \"))\n",
    "classes_attended = int(input(\"Enter the number of classes attended: \"))\n",
    "attendance_percentage = (classes_attended / classes_held) * 100\n",
    "\n",
    "print(f\"Your attendance percentage is: {attendance_percentage:.2f}%\")\n",
    "\n",
    "if attendance_percentage >= 75:\n",
    "    print(\"You are allowed to sit in the exam.\")\n",
    "else:\n",
    "  medical_cause = input(\"Do you have a medical cause? (Y/N): \").strip().upper()\n",
    "\n",
    " if medical_cause == 'Y':\n",
    "        print(\"You are allowed to sit in the exam due to medical reasons.\")\n",
    "else:\n",
    "    print(\"You are not allowed to sit in the exam.\")\n"
   ]
  },
  {
   "cell_type": "markdown",
   "id": "3ed15927-5326-4c00-97ec-545c5845a9e6",
   "metadata": {},
   "source": [
    "13. Write a program to check if a year is leap year or not.\n",
    "If a year is divisible by 4 then it is leap year but if the year is century year like 2000, 1900, 2100 then it must be divisible by 400."
   ]
  },
  {
   "cell_type": "code",
   "execution_count": 18,
   "id": "686437a5-4bd7-4ccb-9bb7-1d2fd3a751e3",
   "metadata": {},
   "outputs": [
    {
     "name": "stdout",
     "output_type": "stream",
     "text": [
      "Enter a year:  456\n"
     ]
    },
    {
     "name": "stdout",
     "output_type": "stream",
     "text": [
      "456 is a leap year.\n"
     ]
    }
   ],
   "source": [
    "year = int(input(\"Enter a year: \"))\n",
    "if (year % 4 == 0 and year % 100 != 0) or (year % 400 == 0):\n",
    "    print(f\"{year} is a leap year.\")\n",
    "else:\n",
    "    print(f\"{year} is not a leap year.\")"
   ]
  },
  {
   "cell_type": "markdown",
   "id": "49b18de1-3d07-4266-a4a5-c091401246ca",
   "metadata": {},
   "source": [
    "14. Ask user to enter age, gender ( M or F ), marital status ( Y or N ) and then using following rules print their place of service.\n",
    "if employee is female, then she will work only in urban areas.\n",
    "\n",
    "if employee is a male and age is in between 20 to 40 then he may work in anywhere\n",
    "\n",
    "if employee is male and age is in between 40 t0 60 then he will work in urban areas only.\n",
    "\n",
    "And any other input of age should print \"ERROR\""
   ]
  },
  {
   "cell_type": "code",
   "execution_count": 19,
   "id": "dfa68ce0-a13a-4891-a60e-53fdd7de3ac0",
   "metadata": {},
   "outputs": [
    {
     "name": "stdout",
     "output_type": "stream",
     "text": [
      "Enter your age:  43\n",
      "Enter your gender (M/F):  M\n",
      "Enter marital status (Y/N):  N\n"
     ]
    },
    {
     "name": "stdout",
     "output_type": "stream",
     "text": [
      "You will work only in urban areas.\n"
     ]
    }
   ],
   "source": [
    "age = int(input(\"Enter your age: \"))\n",
    "gender = input(\"Enter your gender (M/F): \").strip().upper()\n",
    "marital_status = input(\"Enter marital status (Y/N): \").strip().upper()\n",
    "\n",
    "if gender == 'F':\n",
    "    print(\"You will work only in urban areas.\")\n",
    "elif gender == 'M':\n",
    "    if 20 <= age <= 40:\n",
    "        print(\"You may work anywhere.\")\n",
    "    elif 40 <= age <= 60:\n",
    "        print(\"You will work only in urban areas.\")\n",
    "    else:\n",
    "        print(\"ERROR\")\n",
    "else:\n",
    "    print(\"Invalid gender input. Please enter 'M' or 'F'.\")\n"
   ]
  },
  {
   "cell_type": "markdown",
   "id": "cbda099a-f2e3-4e4b-aa7e-16a5e8fa57c1",
   "metadata": {},
   "source": [
    "15. Write a program to calculate the electricity bill (accept number of unit from user) according to the following criteria : Unit Price\n",
    "uptp 100 units no charge Next 200 units Rs 5 per unit After 200 units Rs 10 per unit (For example if input unit is 350 than total bill amount is Rs.3500 (For example if input unit is 97 than total bill amount is Rs.0 (For example if input unit is 150 than total bill amount is Rs.750"
   ]
  },
  {
   "cell_type": "code",
   "execution_count": 20,
   "id": "21921970-d624-4544-bb2e-eb4ed564e606",
   "metadata": {},
   "outputs": [
    {
     "name": "stdout",
     "output_type": "stream",
     "text": [
      "Enter the number of units consumed:  69\n"
     ]
    },
    {
     "name": "stdout",
     "output_type": "stream",
     "text": [
      "Total bill amount: Rs.0\n"
     ]
    }
   ],
   "source": [
    "units = int(input(\"Enter the number of units consumed: \"))\n",
    "\n",
    "if units <= 100:\n",
    "    bill = 0\n",
    "elif units <= 300:  \n",
    "    bill = (units - 100) * 5\n",
    "else:  \n",
    "    bill = (200 * 5) + ((units - 300) * 10)\n",
    "\n",
    "print(f\"Total bill amount: Rs.{bill}\")\n"
   ]
  },
  {
   "cell_type": "markdown",
   "id": "aa1f4016-3cb1-43ca-b0f3-2d60c92991fb",
   "metadata": {},
   "source": [
    "16. Take input of age of 3 people by user and determine oldest and youngest among them."
   ]
  },
  {
   "cell_type": "code",
   "execution_count": 4,
   "id": "953e125f-8b01-4124-80d5-932a4d8018d4",
   "metadata": {},
   "outputs": [
    {
     "name": "stdin",
     "output_type": "stream",
     "text": [
      "Enter the age of first person:  67\n",
      "Enter the age of second person:  12\n",
      "Enter the age of third person:  54\n"
     ]
    },
    {
     "name": "stdout",
     "output_type": "stream",
     "text": [
      "The oldest person is 67 years old.\n",
      "The youngest person is 12 years old.\n"
     ]
    }
   ],
   "source": [
    "age1 = int(input(\"Enter the age of first person: \"))\n",
    "age2 = int(input(\"Enter the age of second person: \"))\n",
    "age3 = int(input(\"Enter the age of third person: \"))\n",
    "\n",
    "oldest = max(age1, age2, age3) \n",
    "youngest = min(age1, age2, age3)\n",
    "\n",
    "print(f\"The oldest person is {oldest} years old.\") \n",
    "print(f\"The youngest person is {youngest} years old.\")"
   ]
  }
 ],
 "metadata": {
  "kernelspec": {
   "display_name": "Python 3 (ipykernel)",
   "language": "python",
   "name": "python3"
  },
  "language_info": {
   "codemirror_mode": {
    "name": "ipython",
    "version": 3
   },
   "file_extension": ".py",
   "mimetype": "text/x-python",
   "name": "python",
   "nbconvert_exporter": "python",
   "pygments_lexer": "ipython3",
   "version": "3.12.7"
  }
 },
 "nbformat": 4,
 "nbformat_minor": 5
}
